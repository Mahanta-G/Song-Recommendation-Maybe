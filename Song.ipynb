{
 "cells": [
  {
   "cell_type": "code",
   "execution_count": 14,
   "id": "6fe1a98b-204c-4f5e-b099-635946f07d1e",
   "metadata": {},
   "outputs": [],
   "source": [
    "# Music Recommendation System (By gaurab aka kaito :p)\n",
    "# (ps: there are many more things to bring in here in future so kinda sorry if it is not upto the mark)\n",
    "# (ill be adding as much as comments for it being more understandable if you wanna try it out for yourself)\n",
    "# This script uses a content-based recommendation system to suggest songs based on lyrics similarity.\n",
    "# The core algorithm is TF-IDF to analyze song lyrics and cosine similarity to find similar songs.\n",
    "\n",
    "# Importing necessary libraries\n",
    "import numpy as np\n",
    "import pandas as pd\n",
    "from sklearn.feature_extraction.text import TfidfVectorizer\n",
    "from sklearn.metrics.pairwise import cosine_similarity\n",
    "from scipy.sparse import csr_matrix\n",
    "from sklearn.decomposition import TruncatedSVD"
   ]
  },
  {
   "cell_type": "code",
   "execution_count": 15,
   "id": "4c8305a3-a929-4772-98ca-f7a69bf6eaee",
   "metadata": {},
   "outputs": [],
   "source": [
    "# Load the dataset\n",
    "# Here we are assuming a large dataset containing song lyrics, song titles, and artist names.\n",
    "songs = pd.read_csv('Path/songdata.csv')\n",
    "# Ensure columns are correctly referenced (assuming 'artist', 'song', 'link', 'text' are the column names)\n",
    "songs.columns = ['artist', 'song', 'text']  # Explicitly naming the columns for clarity"
   ]
  },
  {
   "cell_type": "code",
   "execution_count": 16,
   "id": "f74c4f81-1404-4d94-8c1a-e8874abd28e0",
   "metadata": {},
   "outputs": [],
   "source": [
    "# Clean the lyrics data by removing newline characters\n",
    "songs['text'] = songs['text'].str.replace(r'\\\\n', ' ', regex=True)  # Use a space instead of removing them\n",
    "# Sample a smaller subset for faster computation (you can adjust the sample size, but as it nearly explodes my pc ill keep it at 10k sorry :'|)\n",
    "songs = songs.sample(n=10000).reset_index(drop=True)"
   ]
  },
  {
   "cell_type": "code",
   "execution_count": 17,
   "id": "9cd06f3f-f120-426f-b24d-79159162615d",
   "metadata": {},
   "outputs": [],
   "source": [
    "# Use TF-IDF to vectorize the lyrics\n",
    "# TF-IDF will transform the song lyrics into numerical values that reflect the importance of words\n",
    "tfidf = TfidfVectorizer(analyzer='word', stop_words='english')\n",
    "lyrics_matrix = tfidf.fit_transform(songs['text'])"
   ]
  },
  {
   "cell_type": "code",
   "execution_count": 18,
   "id": "a685a5b1-6a0c-4ced-b25b-bc3cba14ee7b",
   "metadata": {},
   "outputs": [],
   "source": [
    "# Dimensionality reduction with SVD (TruncatedSVD)\n",
    "svd = TruncatedSVD(n_components=100)  # Adjust number of components based on your needs\n",
    "lyrics_matrix_reduced = svd.fit_transform(lyrics_matrix)"
   ]
  },
  {
   "cell_type": "code",
   "execution_count": 19,
   "id": "7f6ba990-0263-4ec4-94ac-1181701e3370",
   "metadata": {},
   "outputs": [],
   "source": [
    "# Compute cosine similarity between songs based on their lyrics\n",
    "# Cosine similarity measures the angle between two vectors to find how similar they are\n",
    "cosine_similarities = cosine_similarity(lyrics_matrix_reduced)"
   ]
  },
  {
   "cell_type": "code",
   "execution_count": 20,
   "id": "fe8c336d-b3e8-4f7d-a523-ed72751bcba9",
   "metadata": {},
   "outputs": [],
   "source": [
    "# Dictionary to store top similar songs for each song in the dataset\n",
    "similarities = {}\n",
    "# Loop to fill the dictionary with top 50 similar songs for each song\n",
    "for i in range(len(cosine_similarities)):\n",
    "    similar_indices = cosine_similarities[i].argsort()[:-51:-1]  # Sort and get top 50\n",
    "    similarities[songs['song'].iloc[i]] = [\n",
    "        (cosine_similarities[i][x], songs['song'].iloc[x], songs['artist'].iloc[x])\n",
    "        for x in similar_indices[1:]  # Skip the first one because it's the same song\n",
    "    ]"
   ]
  },
  {
   "cell_type": "code",
   "execution_count": 21,
   "id": "d91befc7-3c0e-4810-b874-cf1e57bad926",
   "metadata": {},
   "outputs": [],
   "source": [
    "# Define the content-based recommender system class\n",
    "class SongRecommender:\n",
    "    def __init__(self, similarity_matrix):\n",
    "        self.similarity_matrix = similarity_matrix\n",
    "\n",
    "    def print_recommendations(self, target_song, recommended_songs):\n",
    "        \"\"\" Prints the recommended songs in a user-friendly format \"\"\"\n",
    "        print(f\"Recommended songs for '{target_song}':\")\n",
    "        for idx, (score, song, artist) in enumerate(recommended_songs, start=1):\n",
    "            print(f\"Recommendation {idx}:\")\n",
    "            print(f\"Song: {song} | Artist: {artist} | Similarity Score: {round(score, 3)}\")\n",
    "            print(\"-------------\")\n",
    "\n",
    "    def find_song_key(self, song_name):\n",
    "        \"\"\" Find the song key in a case-insensitive manner \"\"\"\n",
    "        normalized_song_name = song_name.lower()  # Normalize input song name\n",
    "        for key in self.similarity_matrix.keys():\n",
    "            if key.lower() == normalized_song_name:  # Compare in lowercase\n",
    "                return key  # Return the key with the correct casing\n",
    "        return None\n",
    "\n",
    "    def recommend(self, song_request):\n",
    "        \"\"\" Recommends similar songs based on a given song request \"\"\"\n",
    "        song_name = song_request['song']  # Keep original casing for display\n",
    "        num_recommendations = song_request['number_songs']\n",
    "\n",
    "        # Find the actual song key regardless of case\n",
    "        actual_song_key = self.find_song_key(song_name)\n",
    "\n",
    "        # Check if the song exists in the similarity matrix\n",
    "        if actual_song_key:\n",
    "            recommended_songs = self.similarity_matrix[actual_song_key][:num_recommendations]\n",
    "            self.print_recommendations(actual_song_key, recommended_songs)\n",
    "        else:\n",
    "            print(f\"Song '{song_name}' not found in the dataset.\")"
   ]
  },
  {
   "cell_type": "code",
   "execution_count": 22,
   "id": "6b7a4acc-54b1-433f-b869-dd631f05837f",
   "metadata": {},
   "outputs": [],
   "source": [
    "# Instantiate the recommendation system\n",
    "# Assume 'similarities' is your similarity matrix\n",
    "song_recommender = SongRecommender(similarities)"
   ]
  },
  {
   "cell_type": "code",
   "execution_count": 23,
   "id": "92b426f8-ad31-4aa7-89c6-022a3fe275fa",
   "metadata": {},
   "outputs": [
    {
     "name": "stdout",
     "output_type": "stream",
     "text": [
      "Recommended songs for 'Who Dat':\n",
      "Recommendation 1:\n",
      "Song: About All That | Artist: Lil Wayne | Similarity Score: 0.856\n",
      "-------------\n",
      "Recommendation 2:\n",
      "Song: I Got Some Money On Me | Artist: Lil Wayne | Similarity Score: 0.853\n",
      "-------------\n",
      "Recommendation 3:\n",
      "Song: All About Money | Artist: Young Buck | Similarity Score: 0.853\n",
      "-------------\n",
      "Recommendation 4:\n",
      "Song: U-Way (How We Do It) (Remix) | Artist: Youngbloodz | Similarity Score: 0.847\n",
      "-------------\n"
     ]
    }
   ],
   "source": [
    "# Example recommendation request for a specific song\n",
    "recommendation_request = {\n",
    "    \"song\": songs['song'].iloc[10],  # Select the 10th song in the dataset\n",
    "    \"number_songs\": 4  # Recommend 4 similar songs\n",
    "}\n",
    "song_recommender.recommend(recommendation_request)"
   ]
  },
  {
   "cell_type": "code",
   "execution_count": 24,
   "id": "7c4b2975-7b57-4fc6-b113-d59fd5115da9",
   "metadata": {},
   "outputs": [],
   "source": [
    "# (this is for Input-based recommendation if needed. but as it happens its a huge dataset and takes a toll on my pototo pc :p)\n",
    "# (me will deff try to optimise it in the future tho if anyones reading the comments)\n",
    "# def get_recommendations():\n",
    "    # Ask for user input\n",
    "    # song_name = input(\"Enter a song name: \")\n",
    "    # num_recommendations = int(input(\"Enter the number of recommendations you want: \"))  # Prompt for number of recommendations\n",
    "    \n",
    "    # Create a request dictionary\n",
    "    # recommendation_request = {\n",
    "        # 'song': song_name,\n",
    "        # 'number_songs': num_recommendations\n",
    "    # }\n",
    "\n",
    "    # Generate recommendations\n",
    "    # song_recommender.recommend(recommendation_request)\n",
    "\n",
    "# Call the function to get recommendations\n",
    "# get_recommendations()"
   ]
  },
  {
   "cell_type": "code",
   "execution_count": 25,
   "id": "788ec808-5c72-4255-8b18-763093e646c2",
   "metadata": {},
   "outputs": [],
   "source": [
    "# Another example recommendation\n",
    "recommendation_request_2 = {\n",
    "    \"song\": songs['song'].iloc[120],  # Select the 120th song in the dataset\n",
    "    \"number_songs\": 4  # Recommend 4 similar songs\n",
    "}\n"
   ]
  },
  {
   "cell_type": "code",
   "execution_count": 26,
   "id": "3634e346-61e8-48ec-99c4-4ac970aa3b30",
   "metadata": {},
   "outputs": [
    {
     "name": "stdout",
     "output_type": "stream",
     "text": [
      "Recommended songs for 'Star':\n",
      "Recommendation 1:\n",
      "Song: From The Inside | Artist: Def Leppard | Similarity Score: 0.96\n",
      "-------------\n",
      "Recommendation 2:\n",
      "Song: More And More | Artist: R. Kelly | Similarity Score: 0.958\n",
      "-------------\n",
      "Recommendation 3:\n",
      "Song: For Me It's You | Artist: Train | Similarity Score: 0.956\n",
      "-------------\n",
      "Recommendation 4:\n",
      "Song: Haunted Bumps | Artist: Insane Clown Posse | Similarity Score: 0.956\n",
      "-------------\n"
     ]
    }
   ],
   "source": [
    "# Generate recommendations for the second example\n",
    "song_recommender.recommend(recommendation_request_2)\n"
   ]
  },
  {
   "cell_type": "code",
   "execution_count": null,
   "id": "287824c9-6770-4691-bc5c-17b8db2d27d7",
   "metadata": {},
   "outputs": [],
   "source": []
  }
 ],
 "metadata": {
  "kernelspec": {
   "display_name": "Python 3 (ipykernel)",
   "language": "python",
   "name": "python3"
  },
  "language_info": {
   "codemirror_mode": {
    "name": "ipython",
    "version": 3
   },
   "file_extension": ".py",
   "mimetype": "text/x-python",
   "name": "python",
   "nbconvert_exporter": "python",
   "pygments_lexer": "ipython3",
   "version": "3.13.0"
  }
 },
 "nbformat": 4,
 "nbformat_minor": 5
}
